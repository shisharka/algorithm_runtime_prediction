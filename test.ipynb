{
 "cells": [
  {
   "cell_type": "code",
   "execution_count": 20,
   "metadata": {
    "collapsed": false
   },
   "outputs": [
    {
     "name": "stdout",
     "output_type": "stream",
     "text": [
      "True\n",
      "True\n"
     ]
    }
   ],
   "source": [
    "import pandas as pd\n",
    "import numpy as np\n",
    "from data_preprocessing import *\n",
    "\n",
    "set_names = ['INDU-HAND-RAND',\n",
    "             'SAT_Competition_RACE_HAND',\n",
    "             'SAT_Competition_RACE_RAND',\n",
    "             'SAT_Competition_RACE_INDU',\n",
    "             'IBM-SWV',\n",
    "             'IBM-ALL',\n",
    "             'SWV',\n",
    "             'SAT_Competition_RACE_RAND_SAT']\n",
    "\n",
    "# ovo je skup za koji smo diskutovali visoku vrednost varijanse objasnjene jednom PCA komponentom\n",
    "set_name = set_names[5] \n",
    "\n",
    "X = pd.read_csv('data/' + 'SAT_Competition_RACE_RAND_SAT' + '-feat.csv')\n",
    "Y = pd.read_csv('data/' + 'SAT_Competition_RACE_RAND_SAT' + '-' + 'tnm' + '.csv',\n",
    "                  names=['INSTANCE_ID', 'SOLVER_TIME'])\n",
    "print(X['INSTANCE_ID'].equals(Y['INSTANCE_ID']))\n",
    "\n",
    "X = pd.read_csv('data/gcrf/' + 'INDU-IBM-SWV' + '-feat.csv')\n",
    "Y = pd.read_csv('data/gcrf/' + 'INDU-IBM-SWV' + '-' + 'spear' + '.csv',\n",
    "                  names=['INSTANCE_ID', 'SOLVER_TIME'])\n",
    "print(X['INSTANCE_ID'].equals(Y['INSTANCE_ID']))\n",
    "# X = X.drop('INSTANCE_ID', axis=1).get_values()\n",
    "\n",
    "# print(X.shape)\n",
    "# X[X==512]"
   ]
  },
  {
   "cell_type": "code",
   "execution_count": 41,
   "metadata": {
    "collapsed": false
   },
   "outputs": [
    {
     "data": {
      "text/plain": [
       "2.0446487801116712e+21"
      ]
     },
     "execution_count": 41,
     "metadata": {},
     "output_type": "execute_result"
    }
   ],
   "source": [
    "np.linalg.cond(X.T.dot(X))"
   ]
  },
  {
   "cell_type": "code",
   "execution_count": 42,
   "metadata": {
    "collapsed": false
   },
   "outputs": [
    {
     "name": "stdout",
     "output_type": "stream",
     "text": [
      "INDU-HAND-RAND : 2.04464878011e+21\n",
      "SAT_Competition_RACE_HAND : 3.80260569124e+20\n",
      "SAT_Competition_RACE_RAND : 2.08134638123e+28\n",
      "SAT_Competition_RACE_INDU : 8.97181055379e+30\n",
      "IBM-SWV : 7.0892524149e+31\n",
      "IBM-ALL : 1.67809590413e+33\n",
      "SWV : 5.51894584938e+33\n",
      "SAT_Competition_RACE_RAND_SAT : 4.69748494948e+28\n"
     ]
    }
   ],
   "source": [
    "# uslovljenosti svih matrica\n",
    "for set_name in set_names:\n",
    "    X = pd.read_csv('data/' + set_name + '-feat.csv')\n",
    "    X = X.drop('INSTANCE_ID', axis=1).get_values()\n",
    "    print(set_name, ':', np.linalg.cond(X.T.dot(X)))"
   ]
  },
  {
   "cell_type": "code",
   "execution_count": 45,
   "metadata": {
    "collapsed": false
   },
   "outputs": [
    {
     "name": "stdout",
     "output_type": "stream",
     "text": [
      "INDU-HAND-RAND : 7012 2802\n",
      "SAT_Competition_RACE_HAND : 1955 765\n",
      "SAT_Competition_RACE_RAND : 3381 1867\n",
      "SAT_Competition_RACE_INDU : 1676 170\n",
      "IBM-SWV : 1369 22\n",
      "IBM-ALL : 765 8\n",
      "SWV : 604 14\n",
      "SAT_Competition_RACE_RAND_SAT : 2076 1140\n"
     ]
    }
   ],
   "source": [
    "# broj instanci pre i nakon izbacivanja onih sa ostecenim vrednostima atributa\n",
    "for set_name in set_names:\n",
    "    X = pd.read_csv('data/' + set_name + '-feat.csv')\n",
    "    X = X.drop('INSTANCE_ID', axis=1).get_values()\n",
    "    print(set_name, ':', X.shape[0], X[~(X == -512).any(axis=1)].shape[0])"
   ]
  },
  {
   "cell_type": "code",
   "execution_count": null,
   "metadata": {
    "collapsed": true
   },
   "outputs": [],
   "source": []
  }
 ],
 "metadata": {
  "kernelspec": {
   "display_name": "Python 3",
   "language": "python",
   "name": "python3"
  },
  "language_info": {
   "codemirror_mode": {
    "name": "ipython",
    "version": 3
   },
   "file_extension": ".py",
   "mimetype": "text/x-python",
   "name": "python",
   "nbconvert_exporter": "python",
   "pygments_lexer": "ipython3",
   "version": "3.6.3"
  }
 },
 "nbformat": 4,
 "nbformat_minor": 2
}
